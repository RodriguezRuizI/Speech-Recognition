{
 "cells": [
  {
   "cell_type": "markdown",
   "metadata": {
    "id": "STu7KzUhNGyY"
   },
   "source": [
    "# VGGVox"
   ]
  },
  {
   "cell_type": "code",
   "execution_count": 1,
   "metadata": {},
   "outputs": [],
   "source": [
    "import pandas as pd\n",
    "import os\n",
    "import numpy as np\n",
    "import re"
   ]
  },
  {
   "cell_type": "code",
   "execution_count": 2,
   "metadata": {},
   "outputs": [
    {
     "name": "stdout",
     "output_type": "stream",
     "text": [
      "Cloning into 'VGGVox-PyTorch'...\n",
      "remote: Enumerating objects: 101, done.\u001b[K\n",
      "remote: Counting objects: 100% (40/40), done.\u001b[K\n",
      "remote: Compressing objects: 100% (7/7), done.\u001b[K\n",
      "remote: Total 101 (delta 33), reused 33 (delta 33), pack-reused 61\u001b[K\n",
      "Receiving objects: 100% (101/101), 64.81 MiB | 13.52 MiB/s, done.\n",
      "Resolving deltas: 100% (54/54), done.\n"
     ]
    },
    {
     "name": "stderr",
     "output_type": "stream",
     "text": [
      "mkdir: dataset: File exists\n"
     ]
    },
    {
     "name": "stdout",
     "output_type": "stream",
     "text": [
      "Requirement already satisfied: numpy in /Users/isabel.rodriguez/opt/anaconda3/lib/python3.9/site-packages (from -r requirements.txt (line 1)) (1.20.3)\n",
      "Requirement already satisfied: scipy in /Users/isabel.rodriguez/opt/anaconda3/lib/python3.9/site-packages (from -r requirements.txt (line 2)) (1.7.1)\n",
      "Requirement already satisfied: pandas in /Users/isabel.rodriguez/opt/anaconda3/lib/python3.9/site-packages (from -r requirements.txt (line 3)) (1.3.4)\n",
      "Requirement already satisfied: torch in /Users/isabel.rodriguez/opt/anaconda3/lib/python3.9/site-packages (from -r requirements.txt (line 4)) (1.11.0)\n",
      "Requirement already satisfied: torchvision in /Users/isabel.rodriguez/opt/anaconda3/lib/python3.9/site-packages (from -r requirements.txt (line 5)) (0.12.0)\n",
      "Requirement already satisfied: matplotlib in /Users/isabel.rodriguez/opt/anaconda3/lib/python3.9/site-packages (from -r requirements.txt (line 6)) (3.4.3)\n",
      "Requirement already satisfied: tqdm in /Users/isabel.rodriguez/opt/anaconda3/lib/python3.9/site-packages (from -r requirements.txt (line 7)) (4.62.3)\n",
      "Collecting argparse\n",
      "  Using cached argparse-1.4.0-py2.py3-none-any.whl (23 kB)\n",
      "Requirement already satisfied: torchsummary in /Users/isabel.rodriguez/opt/anaconda3/lib/python3.9/site-packages (from -r requirements.txt (line 9)) (1.5.1)\n",
      "Requirement already satisfied: python-dateutil>=2.7.3 in /Users/isabel.rodriguez/opt/anaconda3/lib/python3.9/site-packages (from pandas->-r requirements.txt (line 3)) (2.8.2)\n",
      "Requirement already satisfied: pytz>=2017.3 in /Users/isabel.rodriguez/opt/anaconda3/lib/python3.9/site-packages (from pandas->-r requirements.txt (line 3)) (2021.3)\n",
      "Requirement already satisfied: typing-extensions in /Users/isabel.rodriguez/opt/anaconda3/lib/python3.9/site-packages (from torch->-r requirements.txt (line 4)) (3.10.0.2)\n",
      "Requirement already satisfied: pillow!=8.3.*,>=5.3.0 in /Users/isabel.rodriguez/opt/anaconda3/lib/python3.9/site-packages (from torchvision->-r requirements.txt (line 5)) (8.4.0)\n",
      "Requirement already satisfied: requests in /Users/isabel.rodriguez/opt/anaconda3/lib/python3.9/site-packages (from torchvision->-r requirements.txt (line 5)) (2.26.0)\n",
      "Requirement already satisfied: kiwisolver>=1.0.1 in /Users/isabel.rodriguez/opt/anaconda3/lib/python3.9/site-packages (from matplotlib->-r requirements.txt (line 6)) (1.3.1)\n",
      "Requirement already satisfied: pyparsing>=2.2.1 in /Users/isabel.rodriguez/opt/anaconda3/lib/python3.9/site-packages (from matplotlib->-r requirements.txt (line 6)) (3.0.4)\n",
      "Requirement already satisfied: cycler>=0.10 in /Users/isabel.rodriguez/opt/anaconda3/lib/python3.9/site-packages (from matplotlib->-r requirements.txt (line 6)) (0.10.0)\n",
      "Requirement already satisfied: six in /Users/isabel.rodriguez/opt/anaconda3/lib/python3.9/site-packages (from cycler>=0.10->matplotlib->-r requirements.txt (line 6)) (1.16.0)\n",
      "Requirement already satisfied: urllib3<1.27,>=1.21.1 in /Users/isabel.rodriguez/opt/anaconda3/lib/python3.9/site-packages (from requests->torchvision->-r requirements.txt (line 5)) (1.26.7)\n",
      "Requirement already satisfied: idna<4,>=2.5 in /Users/isabel.rodriguez/opt/anaconda3/lib/python3.9/site-packages (from requests->torchvision->-r requirements.txt (line 5)) (3.2)\n",
      "Requirement already satisfied: charset-normalizer~=2.0.0 in /Users/isabel.rodriguez/opt/anaconda3/lib/python3.9/site-packages (from requests->torchvision->-r requirements.txt (line 5)) (2.0.4)\n",
      "Requirement already satisfied: certifi>=2017.4.17 in /Users/isabel.rodriguez/opt/anaconda3/lib/python3.9/site-packages (from requests->torchvision->-r requirements.txt (line 5)) (2021.10.8)\n",
      "Installing collected packages: argparse\n",
      "Successfully installed argparse-1.4.0\n"
     ]
    }
   ],
   "source": [
    "if not os.path.exists('VGGVox-PyTorch'):\n",
    "    ! git clone https://github.com/Derpimort/VGGVox-PyTorch.git\n",
    "    if not os.path.exists('VGGVox-PyTorch/dataset'):\n",
    "        os.system('mkdir dataset')\n",
    "    os.system('rm -r VGGVox-PyTorch/data')\n",
    "    os.system('cp -r dataset/ VGGVox-PyTorch/dataset/' )\n",
    "    os.chdir('VGGVox-PyTorch')\n",
    "    ! pip install -r requirements.txt\n",
    "    \n",
    "else:\n",
    "    if not os.path.exists('VGGVox-PyTorch/dataset'):\n",
    "        os.system('mkdir dataset')\n",
    "    os.system('rm -r VGGVox-PyTorch/data')\n",
    "    os.system(' cp -r dataset/ VGGVox-PyTorch/dataset/' )\n",
    "    os.chdir('VGGVox-PyTorch')\n",
    "    ! pip install -r requirements.txt"
   ]
  },
  {
   "cell_type": "code",
   "execution_count": 3,
   "metadata": {},
   "outputs": [],
   "source": [
    "import torch\n",
    "from torch.utils.data import Subset, Dataset, DataLoader\n",
    "from tqdm.auto import tqdm\n",
    "from vggm import VGGM\n",
    "import argparse\n",
    "from train import AudioDataset, accuracy, ppdf, LOCAL_DATA_DIR, MODEL_DIR\n",
    "from sklearn.metrics.pairwise import cosine_similarity"
   ]
  },
  {
   "cell_type": "code",
   "execution_count": 4,
   "metadata": {},
   "outputs": [],
   "source": [
    "device = torch.device(\"cuda\" if torch.cuda.is_available() else \"cpu\")\n",
    "model=VGGM(1251)\n",
    "model.load_state_dict(torch.load(MODEL_DIR+\"VGGM300_BEST_140_81.99.pth\", map_location=device))\n",
    "model.to(device)\n",
    "model.eval()\n",
    "\n",
    "### This is to extract an activation from one layer ...\n",
    "activation = {}\n",
    "def get_activation(name):\n",
    "    def hook(model, input, output):\n",
    "        activation[name] = output.detach()\n",
    "    return hook"
   ]
  },
  {
   "cell_type": "code",
   "execution_count": 5,
   "metadata": {},
   "outputs": [],
   "source": [
    "DATA_DIR = '/Users/isabel.rodriguez/Desktop/Isa/MUIT - Machine Learning/DLAS/project/VGGVox-PyTorch'\n",
    "\n",
    "df = pd.read_csv('./dataset/labels.csv')\n",
    "\n",
    "Datasets={\"test\":AudioDataset(df, DATA_DIR, is_train=False)}\n",
    "\n",
    "Dataloaders={i:DataLoader(Datasets[i], batch_size=1, shuffle=True, num_workers=2) for i in Datasets}\n",
    "\n",
    "embedding_arr = []\n",
    "\n",
    "for audio, labels in Dataloaders['test']:\n",
    "        audio = audio.to(device)\n",
    "        labels = labels.to(device)\n",
    "        model.classifier.fc7.register_forward_hook(get_activation('fc7'))\n",
    "        outputs = model(audio)\n",
    "\n",
    "        embedding_arr.append(activation['fc7'].cpu().numpy().reshape(-1))\n",
    "\n",
    "df['Embeddings'] = pd.Series(embedding_arr)"
   ]
  },
  {
   "cell_type": "code",
   "execution_count": 6,
   "metadata": {},
   "outputs": [
    {
     "data": {
      "text/html": [
       "<div>\n",
       "<style scoped>\n",
       "    .dataframe tbody tr th:only-of-type {\n",
       "        vertical-align: middle;\n",
       "    }\n",
       "\n",
       "    .dataframe tbody tr th {\n",
       "        vertical-align: top;\n",
       "    }\n",
       "\n",
       "    .dataframe thead th {\n",
       "        text-align: right;\n",
       "    }\n",
       "</style>\n",
       "<table border=\"1\" class=\"dataframe\">\n",
       "  <thead>\n",
       "    <tr style=\"text-align: right;\">\n",
       "      <th></th>\n",
       "      <th>Path</th>\n",
       "      <th>Filename</th>\n",
       "      <th>Label</th>\n",
       "      <th>Embeddings</th>\n",
       "    </tr>\n",
       "  </thead>\n",
       "  <tbody>\n",
       "    <tr>\n",
       "      <th>0</th>\n",
       "      <td>dataset/AVPEPUDEAC0001_pataka.wav</td>\n",
       "      <td>AVPEPUDEAC0001_pataka.wav</td>\n",
       "      <td>0</td>\n",
       "      <td>[-2.4600677e-11, -4.8877104e-11, -4.0576834e-1...</td>\n",
       "    </tr>\n",
       "    <tr>\n",
       "      <th>1</th>\n",
       "      <td>dataset/AVPEPUDEAC0003_pataka.wav</td>\n",
       "      <td>AVPEPUDEAC0003_pataka.wav</td>\n",
       "      <td>0</td>\n",
       "      <td>[-2.6985155e-11, -5.2879996e-11, -4.9070825e-1...</td>\n",
       "    </tr>\n",
       "    <tr>\n",
       "      <th>2</th>\n",
       "      <td>dataset/AVPEPUDEAC0004_pataka.wav</td>\n",
       "      <td>AVPEPUDEAC0004_pataka.wav</td>\n",
       "      <td>0</td>\n",
       "      <td>[-2.6500047e-11, -5.064403e-11, -4.786995e-10,...</td>\n",
       "    </tr>\n",
       "    <tr>\n",
       "      <th>3</th>\n",
       "      <td>dataset/AVPEPUDEAC0005_pataka.wav</td>\n",
       "      <td>AVPEPUDEAC0005_pataka.wav</td>\n",
       "      <td>0</td>\n",
       "      <td>[-2.6032218e-11, -4.9684777e-11, -4.2651027e-1...</td>\n",
       "    </tr>\n",
       "    <tr>\n",
       "      <th>4</th>\n",
       "      <td>dataset/AVPEPUDEAC0006_pataka.wav</td>\n",
       "      <td>AVPEPUDEAC0006_pataka.wav</td>\n",
       "      <td>0</td>\n",
       "      <td>[-2.465349e-11, -4.4724096e-11, -3.9478196e-10...</td>\n",
       "    </tr>\n",
       "    <tr>\n",
       "      <th>...</th>\n",
       "      <td>...</td>\n",
       "      <td>...</td>\n",
       "      <td>...</td>\n",
       "      <td>...</td>\n",
       "    </tr>\n",
       "    <tr>\n",
       "      <th>95</th>\n",
       "      <td>dataset/AVPEPUDEA0055_pataka.wav</td>\n",
       "      <td>AVPEPUDEA0055_pataka.wav</td>\n",
       "      <td>1</td>\n",
       "      <td>[-2.7269265e-11, -5.1880368e-11, -4.89053e-10,...</td>\n",
       "    </tr>\n",
       "    <tr>\n",
       "      <th>96</th>\n",
       "      <td>dataset/AVPEPUDEA0056_pataka.wav</td>\n",
       "      <td>AVPEPUDEA0056_pataka.wav</td>\n",
       "      <td>1</td>\n",
       "      <td>[-2.5075348e-11, -3.9175774e-11, -3.847836e-10...</td>\n",
       "    </tr>\n",
       "    <tr>\n",
       "      <th>97</th>\n",
       "      <td>dataset/AVPEPUDEA0057_pataka.wav</td>\n",
       "      <td>AVPEPUDEA0057_pataka.wav</td>\n",
       "      <td>1</td>\n",
       "      <td>[-2.1047641e-11, -4.1211985e-11, -3.7902792e-1...</td>\n",
       "    </tr>\n",
       "    <tr>\n",
       "      <th>98</th>\n",
       "      <td>dataset/AVPEPUDEA0058_pataka.wav</td>\n",
       "      <td>AVPEPUDEA0058_pataka.wav</td>\n",
       "      <td>1</td>\n",
       "      <td>[-2.167329e-11, -4.426992e-11, -4.0738196e-10,...</td>\n",
       "    </tr>\n",
       "    <tr>\n",
       "      <th>99</th>\n",
       "      <td>dataset/AVPEPUDEA0059_pataka.wav</td>\n",
       "      <td>AVPEPUDEA0059_pataka.wav</td>\n",
       "      <td>1</td>\n",
       "      <td>[-2.2899325e-11, -5.019926e-11, -4.430561e-10,...</td>\n",
       "    </tr>\n",
       "  </tbody>\n",
       "</table>\n",
       "<p>100 rows × 4 columns</p>\n",
       "</div>"
      ],
      "text/plain": [
       "                                 Path                   Filename  Label  \\\n",
       "0   dataset/AVPEPUDEAC0001_pataka.wav  AVPEPUDEAC0001_pataka.wav      0   \n",
       "1   dataset/AVPEPUDEAC0003_pataka.wav  AVPEPUDEAC0003_pataka.wav      0   \n",
       "2   dataset/AVPEPUDEAC0004_pataka.wav  AVPEPUDEAC0004_pataka.wav      0   \n",
       "3   dataset/AVPEPUDEAC0005_pataka.wav  AVPEPUDEAC0005_pataka.wav      0   \n",
       "4   dataset/AVPEPUDEAC0006_pataka.wav  AVPEPUDEAC0006_pataka.wav      0   \n",
       "..                                ...                        ...    ...   \n",
       "95   dataset/AVPEPUDEA0055_pataka.wav   AVPEPUDEA0055_pataka.wav      1   \n",
       "96   dataset/AVPEPUDEA0056_pataka.wav   AVPEPUDEA0056_pataka.wav      1   \n",
       "97   dataset/AVPEPUDEA0057_pataka.wav   AVPEPUDEA0057_pataka.wav      1   \n",
       "98   dataset/AVPEPUDEA0058_pataka.wav   AVPEPUDEA0058_pataka.wav      1   \n",
       "99   dataset/AVPEPUDEA0059_pataka.wav   AVPEPUDEA0059_pataka.wav      1   \n",
       "\n",
       "                                           Embeddings  \n",
       "0   [-2.4600677e-11, -4.8877104e-11, -4.0576834e-1...  \n",
       "1   [-2.6985155e-11, -5.2879996e-11, -4.9070825e-1...  \n",
       "2   [-2.6500047e-11, -5.064403e-11, -4.786995e-10,...  \n",
       "3   [-2.6032218e-11, -4.9684777e-11, -4.2651027e-1...  \n",
       "4   [-2.465349e-11, -4.4724096e-11, -3.9478196e-10...  \n",
       "..                                                ...  \n",
       "95  [-2.7269265e-11, -5.1880368e-11, -4.89053e-10,...  \n",
       "96  [-2.5075348e-11, -3.9175774e-11, -3.847836e-10...  \n",
       "97  [-2.1047641e-11, -4.1211985e-11, -3.7902792e-1...  \n",
       "98  [-2.167329e-11, -4.426992e-11, -4.0738196e-10,...  \n",
       "99  [-2.2899325e-11, -5.019926e-11, -4.430561e-10,...  \n",
       "\n",
       "[100 rows x 4 columns]"
      ]
     },
     "execution_count": 6,
     "metadata": {},
     "output_type": "execute_result"
    }
   ],
   "source": [
    "df"
   ]
  }
 ],
 "metadata": {
  "accelerator": "GPU",
  "colab": {
   "collapsed_sections": [
    "34sT4wiKfmJg"
   ],
   "name": "DLAS_VGGVox_Embeddings_wavDir.ipynb",
   "provenance": []
  },
  "kernelspec": {
   "display_name": "Python 3 (ipykernel)",
   "language": "python",
   "name": "python3"
  },
  "language_info": {
   "codemirror_mode": {
    "name": "ipython",
    "version": 3
   },
   "file_extension": ".py",
   "mimetype": "text/x-python",
   "name": "python",
   "nbconvert_exporter": "python",
   "pygments_lexer": "ipython3",
   "version": "3.9.7"
  }
 },
 "nbformat": 4,
 "nbformat_minor": 1
}
