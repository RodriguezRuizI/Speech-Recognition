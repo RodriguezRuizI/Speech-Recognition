{
 "cells": [
  {
   "cell_type": "code",
   "execution_count": 1,
   "id": "ce442be3",
   "metadata": {},
   "outputs": [],
   "source": [
    "import os\n",
    "from scipy.io import wavfile\n",
    "import IPython.display as ipd\n",
    "import librosa\n",
    "import librosa.display as libdisp\n",
    "import numpy as np\n",
    "from scipy.signal import get_window\n",
    "import scipy.fftpack as fft\n",
    "import matplotlib.pyplot as plt\n",
    "import pandas as pd"
   ]
  },
  {
   "cell_type": "code",
   "execution_count": 2,
   "id": "94530202",
   "metadata": {},
   "outputs": [],
   "source": [
    "df = pd.DataFrame(columns=['Filename','Label'])\n",
    "df_aux = pd.DataFrame(columns=['Filename','Label'])\n",
    "PATH = 'Pataka'\n",
    "counter = 1\n",
    "for directory in sorted(os.listdir(PATH)):\n",
    "    if(directory == 'HC'):\n",
    "        df['Filename'] = sorted(os.listdir(PATH+'/'+directory))\n",
    "        df['Label'] = 0\n",
    "    elif (directory == 'PD'):\n",
    "        df_aux['Filename'] = sorted(os.listdir(PATH+'/'+directory))\n",
    "        df_aux['Label'] = 1\n",
    "        df = pd.concat([df, df_aux], ignore_index=True)\n",
    "\n",
    "df.insert(0, 'Path', 'dataset/')\n",
    "df['Path'] = df['Path'] + df['Filename']\n",
    "df.to_csv('dataset/labels.csv', index = False)"
   ]
  },
  {
   "cell_type": "code",
   "execution_count": null,
   "id": "a07bc869",
   "metadata": {},
   "outputs": [],
   "source": [
    "#TRAIN_PATH = '/content/gdrive/My Drive/Gita/Pataka/'\n",
    "woman_healthy = 'HC/AVPEPUDEAC0001_pataka.wav'\n",
    "man_healthy = 'HC/AVPEPUDEAC0003_pataka.wav'\n",
    "woman_parkinson = 'PD/AVPEPUDEA0002_pataka.wav'\n",
    "man_parkinson = 'PD/AVPEPUDEA0001_petaka.wav'\n",
    "filenames = [woman_healthy, man_healthy, woman_parkinson, man_parkinson]"
   ]
  },
  {
   "cell_type": "code",
   "execution_count": null,
   "id": "f4e1aab6",
   "metadata": {},
   "outputs": [],
   "source": [
    "for filename in filenames:\n",
    "    sample_rate, audio = wavfile.read(PATH +'/'+ filename)\n",
    "    print(\"Sample rate: {0}Hz\".format(sample_rate))\n",
    "    print(\"Audio duration: {0}s\".format(len(audio) / sample_rate))"
   ]
  },
  {
   "cell_type": "code",
   "execution_count": null,
   "id": "e0967fae",
   "metadata": {},
   "outputs": [],
   "source": [
    "SAMPLE_RATE = 44100\n",
    "audio_wh, sr_wh = librosa.core.load(PATH + '/' + woman_healthy, sr=SAMPLE_RATE)\n",
    "audio_mh, sr_mh = librosa.core.load(PATH+ '/' + man_healthy, sr=SAMPLE_RATE)\n",
    "audio_wp, sr_wp = librosa.core.load(PATH+ '/' + woman_parkinson, sr=SAMPLE_RATE)\n",
    "audio_mp, sr_mp = librosa.core.load(PATH+ '/' + man_parkinson, sr=SAMPLE_RATE)\n",
    "\n",
    "ipd.Audio(data=audio_wh, rate=SAMPLE_RATE)"
   ]
  },
  {
   "cell_type": "code",
   "execution_count": null,
   "id": "28b77126",
   "metadata": {},
   "outputs": [],
   "source": [
    "def normalize_audio(audio):\n",
    "    audio = audio / np.max(np.abs(audio))\n",
    "    return audio"
   ]
  },
  {
   "cell_type": "code",
   "execution_count": null,
   "id": "8ba71fb8",
   "metadata": {},
   "outputs": [],
   "source": [
    "audio_wh = normalize_audio(audio_wh)\n",
    "audio_mh = normalize_audio(audio_mh) \n",
    "audio_wp = normalize_audio(audio_wp)\n",
    "audio_mp = normalize_audio(audio_mp)\n",
    "\n",
    "fig, ax = plt.subplots(nrows=2, ncols=2, figsize=(20,8))\n",
    "\n",
    "ax[0,0].set_title(\"Example woman HC\")\n",
    "#ax[0,0].set_xlabel(\"Time (s)\")\n",
    "ax[0,0].plot(np.linspace(0, len(audio_wh) / SAMPLE_RATE, num=len(audio_wh)), audio_wh)\n",
    "ax[0,0].grid(True)\n",
    "\n",
    "ax[0,1].set_title(\"Example man HC\")\n",
    "#ax[0,1].set_xlabel(\"Time (s)\")\n",
    "ax[0,1].plot(np.linspace(0, len(audio_mh) / SAMPLE_RATE, num=len(audio_mh)), audio_mh)\n",
    "ax[0,1].grid(True)\n",
    "\n",
    "ax[1,0].set_title(\"Example woman PD\")\n",
    "ax[1,0].set_xlabel(\"Time (s)\")\n",
    "ax[1,0].plot(np.linspace(0, len(audio_wp) / SAMPLE_RATE, num=len(audio_wp)), audio_wp)\n",
    "ax[1,0].grid(True)\n",
    "\n",
    "ax[1,1].set_title(\"Example man PD\")\n",
    "ax[1,1].set_xlabel(\"Time (s)\")\n",
    "ax[1,1].plot(np.linspace(0, len(audio_mp) / SAMPLE_RATE, num=len(audio_mp)), audio_mp)\n",
    "ax[1,1].grid(True)"
   ]
  },
  {
   "cell_type": "code",
   "execution_count": null,
   "id": "aba39bbc",
   "metadata": {},
   "outputs": [],
   "source": [
    "# Creating a Discrete-Fourier Transform with our FFT algorithm\n",
    "fft_wh = np.fft.fft(audio_wh)\n",
    "fft_mh = np.fft.fft(audio_mh)\n",
    "fft_wp = np.fft.fft(audio_wp)\n",
    "fft_mp = np.fft.fft(audio_mp)\n",
    "\n",
    "# Magnitudes indicate the contribution of each frequency\n",
    "magnitude_wh = np.abs(fft_wh)\n",
    "magnitude_mh = np.abs(fft_mh)\n",
    "magnitude_wp = np.abs(fft_wp)\n",
    "magnitude_mp = np.abs(fft_mp)\n",
    "\n",
    "# Mapping the magnitude to the relative frequency bins\n",
    "frequency_wh = np.linspace(0, SAMPLE_RATE, len(magnitude_wh))\n",
    "frequency_mh = np.linspace(0, SAMPLE_RATE, len(magnitude_mh))\n",
    "frequency_wp = np.linspace(0, SAMPLE_RATE, len(magnitude_wp))\n",
    "frequency_mp = np.linspace(0, SAMPLE_RATE, len(magnitude_mp))\n",
    "\n",
    "# We only need the first half of the magnitude and frequency\n",
    "left_mag_wh = magnitude_wh[:int(len(magnitude_wh)/2)]\n",
    "left_freq_wh = frequency_wh[:int(len(frequency_wh)/2)]\n",
    "\n",
    "left_mag_mh = magnitude_mh[:int(len(magnitude_mh)/2)]\n",
    "left_freq_mh = frequency_mh[:int(len(frequency_mh)/2)]\n",
    "\n",
    "left_mag_wp = magnitude_wp[:int(len(magnitude_wp)/2)]\n",
    "left_freq_wp = frequency_wp[:int(len(frequency_wp)/2)]\n",
    "\n",
    "left_mag_mp = magnitude_mp[:int(len(magnitude_mp)/2)]\n",
    "left_freq_mp = frequency_mp[:int(len(frequency_mp)/2)]\n",
    "\n",
    "\n",
    "fig, ax = plt.subplots(nrows=2, ncols=2, figsize=(20,8))\n",
    "\n",
    "ax[0,0].set_title(\"DFT woman HC\")\n",
    "ax[0,0].set_ylabel(\"Magnitude\")\n",
    "ax[0,0].plot(left_freq_wh[:int(len(left_freq_wh)/2)], left_mag_wh[:int(len(left_mag_wh)/2)])\n",
    "\n",
    "ax[0,1].set_title(\"DFT man HC\")\n",
    "#ax[0,1].set_xlabel(\"Time (s)\")\n",
    "ax[0,1].plot(left_freq_mh[:int(len(left_freq_mh)/2)], left_mag_mh[:int(len(left_mag_mh)/2)])\n",
    "\n",
    "ax[1,0].set_title(\"DFT woman PD\")\n",
    "ax[1,0].set_ylabel(\"Magnitude\")\n",
    "ax[1,0].set_xlabel(\"Frequency (Hz)\")\n",
    "ax[1,0].plot(left_freq_wp[:int(len(left_freq_wp)/2)], left_mag_wp[:int(len(left_mag_wp)/2)])\n",
    "\n",
    "ax[1,1].set_title(\"DFT man PD\")\n",
    "ax[1,1].set_xlabel(\"Frequency (Hz)\")\n",
    "ax[1,1].plot(left_freq_mp[:int(len(left_freq_mp)/2)], left_mag_mp[:int(len(left_mag_mp)/2)])"
   ]
  },
  {
   "cell_type": "code",
   "execution_count": null,
   "id": "bff63906",
   "metadata": {},
   "outputs": [],
   "source": [
    "FFT_size = 2048\n",
    "#hop_size = 15 #ms\n",
    "\n",
    "window = get_window(\"hann\", FFT_size, fftbins=True)"
   ]
  },
  {
   "cell_type": "code",
   "execution_count": null,
   "id": "c1e0d2bc",
   "metadata": {},
   "outputs": [],
   "source": [
    "hop_size = 1024\n",
    "fmax = 12000\n",
    "\n",
    "melspec_wh = librosa.feature.melspectrogram(y=audio_wh, sr=SAMPLE_RATE, window=window, n_fft=FFT_size, hop_length=hop_size, fmax=fmax)\n",
    "melspec_mh = librosa.feature.melspectrogram(y=audio_mh, sr=SAMPLE_RATE, window=window, n_fft=FFT_size, hop_length=hop_size, fmax=fmax)\n",
    "melspec_wp = librosa.feature.melspectrogram(y=audio_wp, sr=SAMPLE_RATE, window=window, n_fft=FFT_size, hop_length=hop_size, fmax=fmax)\n",
    "melspec_mp = librosa.feature.melspectrogram(y=audio_mp, sr=SAMPLE_RATE, window=window, n_fft=FFT_size, hop_length=hop_size, fmax=fmax)"
   ]
  },
  {
   "cell_type": "code",
   "execution_count": null,
   "id": "d77a4342",
   "metadata": {},
   "outputs": [],
   "source": [
    "fig, ax = plt.subplots(nrows=2, ncols=2, figsize=(20,8))\n",
    "\n",
    "img_wh = libdisp.specshow(librosa.power_to_db(melspec_wh, ref=np.max), x_axis='time', y_axis='mel', fmax=fmax, ax=ax[0,0])\n",
    "fig.colorbar(img_wh, format='%+2.0f dB', ax=[ax[0,0]])\n",
    "ax[0,0].set_title(\"Mel spectrogram woman HC\")\n",
    "ax[0,0].set_xlabel('')\n",
    "ax[0,0].set_ylabel('Frequency (Hz)')\n",
    "\n",
    "img_mh = libdisp.specshow(librosa.power_to_db(melspec_mh, ref=np.max), x_axis='time', y_axis='mel', fmax=fmax, ax=ax[0,1])\n",
    "fig.colorbar(img_mh, format='%+2.0f dB', ax=[ax[0,1]])\n",
    "ax[0,1].set_title(\"Mel spectrogram man HC\")\n",
    "ax[0,1].set_xlabel('')\n",
    "ax[0,1].set_ylabel('')\n",
    "\n",
    "img_wp = libdisp.specshow(librosa.power_to_db(melspec_wp, ref=np.max), x_axis='time', y_axis='mel', fmax=fmax, ax=ax[1,0])\n",
    "fig.colorbar(img_wp, format='%+2.0f dB', ax=[ax[1,0]])\n",
    "ax[1,0].set_title(\"Mel spectrogram woman PD\")\n",
    "ax[1,0].set_xlabel(\"Time (s)\")\n",
    "ax[1,0].set_ylabel('Frequency (Hz)')\n",
    "\n",
    "img_mp = libdisp.specshow(librosa.power_to_db(melspec_mp, ref=np.max), x_axis='time', y_axis='mel', fmax=fmax, ax=ax[1,1])\n",
    "fig.colorbar(img_mp, format='%+2.0f dB', ax=[ax[1,1]])\n",
    "ax[1,1].set_title(\"Mel spectrogram man PD\")\n",
    "ax[1,1].set_xlabel(\"Time (s)\")\n",
    "ax[1,1].set_ylabel('')\n"
   ]
  },
  {
   "cell_type": "code",
   "execution_count": null,
   "id": "35b69639",
   "metadata": {},
   "outputs": [],
   "source": [
    "NUM_COEFFICIENTS = 40\n",
    "#filename = 'HC/AVPEPUDEAC0003_pataka.wav'\n",
    "filename = woman_healthy\n",
    "audio, sr = librosa.core.load(PATH+'/'+filename, sr=SAMPLE_RATE)"
   ]
  },
  {
   "cell_type": "code",
   "execution_count": null,
   "id": "d2f3834b",
   "metadata": {},
   "outputs": [],
   "source": [
    "MFCC_coefficients = librosa.feature.mfcc(y=audio, sr=SAMPLE_RATE, n_mfcc=NUM_COEFFICIENTS)\n",
    "MFCC_coefficients"
   ]
  },
  {
   "cell_type": "code",
   "execution_count": null,
   "id": "e2dd1cf1",
   "metadata": {},
   "outputs": [],
   "source": [
    "#plt.figure(figsize=(15,5))\n",
    "#plt.plot(np.linspace(0, len(audio_wh) / sample_rate, num=len(audio_wh)), audio_wh)\n",
    "#plt.imshow(MFCC_coefficients, aspect='auto', origin='lower')"
   ]
  },
  {
   "cell_type": "code",
   "execution_count": null,
   "id": "b8be5de5",
   "metadata": {},
   "outputs": [],
   "source": [
    "#plt.figure(figsize=(15,5))\n",
    "#img = librosa.display.specshow(MFCC_coefficients, x_axis='time')\n",
    "#plt.colorbar(img)\n",
    "\n",
    "#plt.title('MFCC')"
   ]
  },
  {
   "cell_type": "code",
   "execution_count": null,
   "id": "dc6d1b35",
   "metadata": {},
   "outputs": [],
   "source": []
  }
 ],
 "metadata": {
  "kernelspec": {
   "display_name": "Python 3 (ipykernel)",
   "language": "python",
   "name": "python3"
  },
  "language_info": {
   "codemirror_mode": {
    "name": "ipython",
    "version": 3
   },
   "file_extension": ".py",
   "mimetype": "text/x-python",
   "name": "python",
   "nbconvert_exporter": "python",
   "pygments_lexer": "ipython3",
   "version": "3.9.7"
  }
 },
 "nbformat": 4,
 "nbformat_minor": 5
}
