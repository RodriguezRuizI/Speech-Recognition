{
 "cells": [
  {
   "cell_type": "markdown",
   "metadata": {
    "id": "STu7KzUhNGyY"
   },
   "source": [
    "# VGGVox"
   ]
  },
  {
   "cell_type": "code",
   "execution_count": 1,
   "metadata": {},
   "outputs": [],
   "source": [
    "import pandas as pd\n",
    "import os\n",
    "import numpy as np\n",
    "import re"
   ]
  },
  {
   "cell_type": "code",
   "execution_count": 2,
   "metadata": {},
   "outputs": [
    {
     "name": "stdout",
     "output_type": "stream",
     "text": [
      "Requirement already satisfied: numpy in /Users/isabel.rodriguez/opt/anaconda3/lib/python3.9/site-packages (from -r requirements.txt (line 1)) (1.20.3)\n",
      "Requirement already satisfied: scipy in /Users/isabel.rodriguez/opt/anaconda3/lib/python3.9/site-packages (from -r requirements.txt (line 2)) (1.7.1)\n",
      "Requirement already satisfied: pandas in /Users/isabel.rodriguez/opt/anaconda3/lib/python3.9/site-packages (from -r requirements.txt (line 3)) (1.3.4)\n",
      "Requirement already satisfied: torch in /Users/isabel.rodriguez/opt/anaconda3/lib/python3.9/site-packages (from -r requirements.txt (line 4)) (1.11.0)\n",
      "Requirement already satisfied: torchvision in /Users/isabel.rodriguez/opt/anaconda3/lib/python3.9/site-packages (from -r requirements.txt (line 5)) (0.12.0)\n",
      "Requirement already satisfied: matplotlib in /Users/isabel.rodriguez/opt/anaconda3/lib/python3.9/site-packages (from -r requirements.txt (line 6)) (3.4.3)\n",
      "Requirement already satisfied: tqdm in /Users/isabel.rodriguez/opt/anaconda3/lib/python3.9/site-packages (from -r requirements.txt (line 7)) (4.62.3)\n",
      "Collecting argparse\n",
      "  Using cached argparse-1.4.0-py2.py3-none-any.whl (23 kB)\n",
      "Requirement already satisfied: torchsummary in /Users/isabel.rodriguez/opt/anaconda3/lib/python3.9/site-packages (from -r requirements.txt (line 9)) (1.5.1)\n",
      "Requirement already satisfied: python-dateutil>=2.7.3 in /Users/isabel.rodriguez/opt/anaconda3/lib/python3.9/site-packages (from pandas->-r requirements.txt (line 3)) (2.8.2)\n",
      "Requirement already satisfied: pytz>=2017.3 in /Users/isabel.rodriguez/opt/anaconda3/lib/python3.9/site-packages (from pandas->-r requirements.txt (line 3)) (2021.3)\n",
      "Requirement already satisfied: typing-extensions in /Users/isabel.rodriguez/opt/anaconda3/lib/python3.9/site-packages (from torch->-r requirements.txt (line 4)) (3.10.0.2)\n",
      "Requirement already satisfied: requests in /Users/isabel.rodriguez/opt/anaconda3/lib/python3.9/site-packages (from torchvision->-r requirements.txt (line 5)) (2.26.0)\n",
      "Requirement already satisfied: pillow!=8.3.*,>=5.3.0 in /Users/isabel.rodriguez/opt/anaconda3/lib/python3.9/site-packages (from torchvision->-r requirements.txt (line 5)) (8.4.0)\n",
      "Requirement already satisfied: cycler>=0.10 in /Users/isabel.rodriguez/opt/anaconda3/lib/python3.9/site-packages (from matplotlib->-r requirements.txt (line 6)) (0.10.0)\n",
      "Requirement already satisfied: kiwisolver>=1.0.1 in /Users/isabel.rodriguez/opt/anaconda3/lib/python3.9/site-packages (from matplotlib->-r requirements.txt (line 6)) (1.3.1)\n",
      "Requirement already satisfied: pyparsing>=2.2.1 in /Users/isabel.rodriguez/opt/anaconda3/lib/python3.9/site-packages (from matplotlib->-r requirements.txt (line 6)) (3.0.4)\n",
      "Requirement already satisfied: six in /Users/isabel.rodriguez/opt/anaconda3/lib/python3.9/site-packages (from cycler>=0.10->matplotlib->-r requirements.txt (line 6)) (1.16.0)\n",
      "Requirement already satisfied: urllib3<1.27,>=1.21.1 in /Users/isabel.rodriguez/opt/anaconda3/lib/python3.9/site-packages (from requests->torchvision->-r requirements.txt (line 5)) (1.26.7)\n",
      "Requirement already satisfied: idna<4,>=2.5 in /Users/isabel.rodriguez/opt/anaconda3/lib/python3.9/site-packages (from requests->torchvision->-r requirements.txt (line 5)) (3.2)\n",
      "Requirement already satisfied: charset-normalizer~=2.0.0 in /Users/isabel.rodriguez/opt/anaconda3/lib/python3.9/site-packages (from requests->torchvision->-r requirements.txt (line 5)) (2.0.4)\n",
      "Requirement already satisfied: certifi>=2017.4.17 in /Users/isabel.rodriguez/opt/anaconda3/lib/python3.9/site-packages (from requests->torchvision->-r requirements.txt (line 5)) (2021.10.8)\n",
      "Installing collected packages: argparse\n",
      "Successfully installed argparse-1.4.0\n"
     ]
    }
   ],
   "source": [
    "if not os.path.exists('VGGVox-PyTorch'):\n",
    "    ! git clone https://github.com/Derpimort/VGGVox-PyTorch.git\n",
    "    if not os.path.exists('VGGVox-PyTorch/dataset'):\n",
    "        os.system('mkdir dataset')\n",
    "    os.system('rm -r VGGVox-PyTorch/data')\n",
    "    os.system('cp -r dataset/ VGGVox-PyTorch/dataset/' )\n",
    "    os.chdir('VGGVox-PyTorch')\n",
    "    ! pip install -r requirements.txt\n",
    "    \n",
    "else:\n",
    "    if not os.path.exists('VGGVox-PyTorch/dataset'):\n",
    "        os.system('mkdir dataset')\n",
    "    os.system('rm -r VGGVox-PyTorch/data')\n",
    "    os.system(' cp -r dataset/ VGGVox-PyTorch/dataset/' )\n",
    "    os.chdir('VGGVox-PyTorch')\n",
    "    ! pip install -r requirements.txt"
   ]
  },
  {
   "cell_type": "code",
   "execution_count": null,
   "metadata": {},
   "outputs": [],
   "source": [
    "import torch\n",
    "from torch.utils.data import Subset, Dataset, DataLoader\n",
    "from tqdm.auto import tqdm\n",
    "from vggm import VGGM\n",
    "import argparse\n",
    "from train import AudioDataset, accuracy, ppdf, LOCAL_DATA_DIR, MODEL_DIR\n",
    "from sklearn.metrics.pairwise import cosine_similarity"
   ]
  },
  {
   "cell_type": "code",
   "execution_count": null,
   "metadata": {},
   "outputs": [],
   "source": [
    "device = torch.device(\"cuda\" if torch.cuda.is_available() else \"cpu\")\n",
    "model=VGGM(1251)\n",
    "model.load_state_dict(torch.load(MODEL_DIR+\"VGGM300_BEST_140_81.99.pth\", map_location=device))\n",
    "model.to(device)\n",
    "model.eval()\n",
    "\n",
    "### This is to extract an activation from one layer ...\n",
    "activation = {}\n",
    "def get_activation(name):\n",
    "    def hook(model, input, output):\n",
    "        activation[name] = output.detach()\n",
    "    return hook"
   ]
  },
  {
   "cell_type": "code",
   "execution_count": null,
   "metadata": {},
   "outputs": [],
   "source": [
    "pwd"
   ]
  },
  {
   "cell_type": "code",
   "execution_count": null,
   "metadata": {},
   "outputs": [],
   "source": [
    "DATA_DIR = '/Users/isabel.rodriguez/Desktop/Isa/MUIT - Machine Learning/DLAS/project/VGGVox-PyTorch/dataset'\n",
    "\n",
    "df = pd.read_csv('dataset/labels.csv')\n",
    "\n",
    "df.insert(0, 'Path', 'dataset/')\n",
    "\n",
    "#Datasets={\"test\":AudioDataset(df, DATA_DIR, is_train=False)}\n",
    "\n",
    "# Dataloaders={i:DataLoader(Datasets[i], batch_size=1, shuffle=True, num_workers=2) for i in Datasets}\n",
    "\n",
    "# embedding_arr = []\n",
    "\n",
    "# for audio, labels in Dataloaders['test']:\n",
    "#         audio = audio.to(device)\n",
    "#         labels = labels.to(device)\n",
    "#         model.classifier.fc7.register_forward_hook(get_activation('fc7'))\n",
    "#         outputs = model(audio)\n",
    "\n",
    "#         embedding_arr.append(activation['fc7'].cpu().numpy().reshape(-1))\n",
    "\n",
    "# df_F['Embeddings'] = pd.Series(embedding_arr)"
   ]
  },
  {
   "cell_type": "code",
   "execution_count": null,
   "metadata": {},
   "outputs": [],
   "source": [
    "df"
   ]
  },
  {
   "cell_type": "code",
   "execution_count": null,
   "metadata": {},
   "outputs": [],
   "source": []
  }
 ],
 "metadata": {
  "accelerator": "GPU",
  "colab": {
   "collapsed_sections": [
    "34sT4wiKfmJg"
   ],
   "name": "DLAS_VGGVox_Embeddings_wavDir.ipynb",
   "provenance": []
  },
  "kernelspec": {
   "display_name": "Python 3 (ipykernel)",
   "language": "python",
   "name": "python3"
  },
  "language_info": {
   "codemirror_mode": {
    "name": "ipython",
    "version": 3
   },
   "file_extension": ".py",
   "mimetype": "text/x-python",
   "name": "python",
   "nbconvert_exporter": "python",
   "pygments_lexer": "ipython3",
   "version": "3.9.7"
  }
 },
 "nbformat": 4,
 "nbformat_minor": 1
}
